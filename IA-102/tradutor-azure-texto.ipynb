{
 "cells": [
  {
   "cell_type": "code",
   "execution_count": 14,
   "metadata": {},
   "outputs": [],
   "source": [
    "import requests\n",
    "from docx import Document\n",
    "import os"
   ]
  },
  {
   "cell_type": "code",
   "execution_count": 26,
   "metadata": {},
   "outputs": [],
   "source": [
    "subscription_key = 'DPo8ARgbwoI0xJvlmL7zUmwkCEE3nZ1qCyMQLDmSpIAVUlXzvAgLJQQJ99AKACHYHv6XJ3w3AAAbACOGz4oi'\n",
    "endpoint = 'https://api.cognitive.microsofttranslator.com'\n",
    "location = 'eastus2'\n",
    "target_language = 'pt-br'\n",
    "\n",
    "def translater_text(text, target_language):\n",
    "    path = '/translate?api-version=3.0'\n",
    "    constructed_url = endpoint + path \n",
    "\n",
    "    headers = {\n",
    "        'Ocp-Apim-Subscription-Key': subscription_key,\n",
    "        'Ocp-Apim-Subscription-Region': location,\n",
    "        'Content-type': 'application/json',\n",
    "        'X-ClientTraceId': str(os.urandom(16))\n",
    "    }\n",
    "\n",
    "    body = [{\n",
    "        'text': text\n",
    "    }]\n",
    "\n",
    "    params = {\n",
    "        'from': 'en',\n",
    "        'to': [target_language]\n",
    "    }\n",
    "\n",
    "    try:\n",
    "        response = requests.post(constructed_url, headers=headers, params=params, json=body)\n",
    "        response.raise_for_status()  # Verifica se a requisição teve sucesso\n",
    "        result = response.json()\n",
    "        return result[0][\"translations\"][0][\"text\"]\n",
    "    except requests.exceptions.RequestException as e:\n",
    "        print(f\"Erro na requisição: {e}\")\n",
    "        return None\n"
   ]
  },
  {
   "cell_type": "code",
   "execution_count": 27,
   "metadata": {},
   "outputs": [
    {
     "data": {
      "text/plain": [
       "'O surgimento do GenIA possibilitou a geração de conteúdo derivado principalmente de materiais escritos.'"
      ]
     },
     "execution_count": 27,
     "metadata": {},
     "output_type": "execute_result"
    }
   ],
   "source": [
    "translater_text(\"The emergence of GenIA has enabled the generation of content derived mostly from written materials.\", target_language)"
   ]
  },
  {
   "cell_type": "code",
   "execution_count": 33,
   "metadata": {},
   "outputs": [],
   "source": [
    "def translate_document(path):\n",
    "    document = Document(path)\n",
    "    full_text = []\n",
    "    for paragraph in document.paragraphs:\n",
    "        translated_text = translater_text(paragraph.text, target_language)\n",
    "        full_text.append(translated_text)\n",
    "\n",
    "    translated_doc = Document()\n",
    "    for line in full_text:\n",
    "        translated_doc.add_paragraph(line)\n",
    "    path_translated = path.replace(\".docx\", f\"_{target_language}.docx\")\n",
    "    translated_doc.save(path_translated)\n",
    "    return path_translated\n",
    "\n",
    "input_file = r\"Bloody_Mary.docx\"\n",
    "\n",
    "if not os.path.exists(input_file):\n",
    "    print(f\"O arquivo {input_file} não foi encontrado.\")\n",
    "else:\n",
    "    translate_document(input_file)"
   ]
  }
 ],
 "metadata": {
  "kernelspec": {
   "display_name": "Python 3",
   "language": "python",
   "name": "python3"
  },
  "language_info": {
   "codemirror_mode": {
    "name": "ipython",
    "version": 3
   },
   "file_extension": ".py",
   "mimetype": "text/x-python",
   "name": "python",
   "nbconvert_exporter": "python",
   "pygments_lexer": "ipython3",
   "version": "3.12.5"
  }
 },
 "nbformat": 4,
 "nbformat_minor": 2
}
