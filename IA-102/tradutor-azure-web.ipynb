{
 "cells": [
  {
   "cell_type": "code",
   "execution_count": 90,
   "metadata": {},
   "outputs": [],
   "source": [
    "import os\n",
    "import requests\n",
    "from bs4 import BeautifulSoup\n",
    "from markdownify import markdownify as md"
   ]
  },
  {
   "cell_type": "code",
   "execution_count": 91,
   "metadata": {},
   "outputs": [],
   "source": [
    "def extract_text_from_url(url):\n",
    "    response = requests.get(url)\n",
    "    \n",
    "    if response.status_code == 200:\n",
    "        soup = BeautifulSoup(response.text, 'html.parser')\n",
    "        \n",
    "        # Remove tags de script e estilo\n",
    "        for script_or_style in soup([\"script\", \"style\"]):\n",
    "            script_or_style.decompose()\n",
    "        \n",
    "        # Extrai o texto com um separador de espaço\n",
    "        texto = soup.get_text(separator=' ')\n",
    "        \n",
    "        # Limpeza do texto\n",
    "        linhas = (line.strip() for line in texto.splitlines())\n",
    "        partes = (frase.strip() for linha in linhas for frase in linha.split(\"  \"))\n",
    "        texto_limpo = '\\n'.join(linha for linha in linhas if linha)\n",
    "        \n",
    "        return texto_limpo\n",
    "    else:\n",
    "        print(f\"Erro: {response.status_code}\")\n",
    "        return None\n",
    "\n"
   ]
  },
  {
   "cell_type": "code",
   "execution_count": 92,
   "metadata": {},
   "outputs": [],
   "source": [
    "# Configurações do Azure Translator\n",
    "subscription_key = 'DPo8ARgbwoI0xJvlmL7zUmwkCEE3nZ1qCyMQLDmSpIAVUlXzvAgLJQQJ99AKACHYHv6XJ3w3AAAbACOGz4oi'\n",
    "endpoint = 'https://api.cognitive.microsofttranslator.com'\n",
    "location = 'eastus2' \n"
   ]
  },
  {
   "cell_type": "code",
   "execution_count": 93,
   "metadata": {},
   "outputs": [],
   "source": [
    "def traduzir_texto(texto, subscription_key, endpoint, location, to_language='pt'):\n",
    "    path = '/translate?api-version=3.0'\n",
    "    params = f'&to={to_language}'\n",
    "    constructed_url = endpoint + path + params\n",
    "\n",
    "    headers = {\n",
    "        'Ocp-Apim-Subscription-Key': subscription_key,\n",
    "        'Ocp-Apim-Subscription-Region': location,\n",
    "        'Content-type': 'application/json',\n",
    "        'X-ClientTraceId': str(os.urandom(16))\n",
    "    }\n",
    "\n",
    "    body = [{\n",
    "        'text': texto\n",
    "    }]\n",
    "\n",
    "    try:\n",
    "        response = requests.post(constructed_url, headers=headers, json=body)\n",
    "        response.raise_for_status()\n",
    "        resultados = response.json()\n",
    "        traducao = ''.join([item['translations'][0]['text'] for item in resultados])\n",
    "        return traducao\n",
    "    except requests.exceptions.RequestException as e:\n",
    "        print(f\"Erro na tradução: {e}\")\n",
    "        return None"
   ]
  },
  {
   "cell_type": "code",
   "execution_count": 94,
   "metadata": {},
   "outputs": [],
   "source": [
    "def salvar_em_markdown(texto, nome_arquivo='traducao.md'):\n",
    "    markdown_text = md(texto)\n",
    "    with open(nome_arquivo, 'w', encoding='utf-8') as f:\n",
    "        f.write(markdown_text)\n",
    "    print(f\"Arquivo salvo como {nome_arquivo}\")"
   ]
  },
  {
   "cell_type": "code",
   "execution_count": 96,
   "metadata": {},
   "outputs": [
    {
     "name": "stdout",
     "output_type": "stream",
     "text": [
      "Arquivo salvo como traducao.md\n"
     ]
    }
   ],
   "source": [
    "url = 'https://dev.to/educative/data-science-in-5-minutes-what-is-data-cleaning-16of'\n",
    "texto_extraido = extract_text_from_url(url)\n",
    "\n",
    "if texto_extraido:\n",
    "    texto_traduzido = traduzir_texto(texto_extraido, subscription_key, endpoint, location, to_language='pt')\n",
    "    if texto_traduzido:\n",
    "        salvar_em_markdown(texto_traduzido, 'traducao.md')"
   ]
  }
 ],
 "metadata": {
  "kernelspec": {
   "display_name": "Python 3",
   "language": "python",
   "name": "python3"
  },
  "language_info": {
   "codemirror_mode": {
    "name": "ipython",
    "version": 3
   },
   "file_extension": ".py",
   "mimetype": "text/x-python",
   "name": "python",
   "nbconvert_exporter": "python",
   "pygments_lexer": "ipython3",
   "version": "3.12.5"
  }
 },
 "nbformat": 4,
 "nbformat_minor": 2
}
